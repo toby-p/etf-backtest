{
 "cells": [
  {
   "cell_type": "code",
   "execution_count": 21,
   "id": "9b555fc9-ebc2-4356-8ea5-787f37e9b3f0",
   "metadata": {},
   "outputs": [],
   "source": [
    "import yfinance as yf  # https://pypi.org/project/yfinance/"
   ]
  },
  {
   "cell_type": "code",
   "execution_count": 224,
   "id": "f7e0375f-5a72-4743-b4ee-c95b83c6342d",
   "metadata": {},
   "outputs": [],
   "source": [
    "tickers = [\n",
    "    \"AIAG.L\", # L&G Artificial Intelligence UCITS ETF (AIAG.L)\n",
    "    \"NBTK.DE\",  # Invesco NASDAQ Biotech UCITS ETF (NBTK.DE)\n",
    "    \"XMLH.DE\", # L&G Healthcare Breakthrough UCITS ETF (XMLH.DE)\n",
    "    \"ROBO\", # Robo Global Robotics and Automation Index ETF (ROBO)\n",
    "    \"TIUP.DE\", # Lyxor Core US TIPS (DR) UCITS ETF (TIUP.DE)\n",
    "    \"VWRL.AS\", # Vanguard FTSE All-World UCITS ETF (VWRL.AS)\n",
    "    \"VFEM.AS\", # Vanguard FTSE Emerging Markets UCITS ETF (VFEM.AS)\n",
    "    \"DXSA.DE\", # Xtrackers Euro Stoxx Quality Dividend UCITS ETF (DXSA.DE)\n",
    "    \"SXR8.DE\", # iShares VII PLC - iShares Core S&P 500 UCITS ETF (SXR8.DE)\n",
    "    \"IPRP.AS\", # iShares European Property Yield UCITS ETF (IPRP.AS)\n",
    "    \"2B78.DE\", # iShares Healthcare Innovation UCITS ETF (2B78.DE)\n",
    "]\n",
    "no_years = 5"
   ]
  },
  {
   "cell_type": "code",
   "execution_count": 225,
   "id": "c4793473-72ee-49c6-8b36-e21e6bfb5678",
   "metadata": {},
   "outputs": [],
   "source": [
    "dfs = []\n",
    "# Create a list of DataFrames\n",
    "for tick in tickers:\n",
    "    df = yf.Ticker(tick).history(period=f\"{no_years}y\")\n",
    "    df[\"Change\"] = df[\"Close\"].pct_change()*100\n",
    "    df.drop(index=df.index[0], axis=0, inplace=True)  # no change on 1st day\n",
    "    df.reset_index(inplace=True)  # make idx a col\n",
    "    df = df[[\"Date\", \"Close\", \"Change\"]]\n",
    "    df[\"Tick\"] = tick\n",
    "    df[\"Date\"] = df[\"Date\"].dt.date\n",
    "    dfs.append(df)\n",
    "# tick.history_metadata"
   ]
  },
  {
   "cell_type": "code",
   "execution_count": 226,
   "id": "c44d8b0d-2e2c-47f5-baa1-ed2e6da1fdef",
   "metadata": {},
   "outputs": [],
   "source": [
    "# Create dataframe with every day in last year\n",
    "import pandas as pd\n",
    "from datetime import datetime, timedelta\n",
    "\n",
    "# get today's date\n",
    "today = datetime.today()\n",
    "\n",
    "# calculate the date one year ago\n",
    "one_year_ago = today - timedelta(days=365*no_years)\n",
    "\n",
    "# create a date range from one year ago to today\n",
    "dates = pd.date_range(start=one_year_ago, end=today)\n",
    "\n",
    "# create a DataFrame with the dates\n",
    "new_df = pd.DataFrame(dates, columns=['Date'])\n",
    "new_df = new_df[~new_df['Date'].dt.dayofweek.isin([5, 6])]\n",
    "\n",
    "# you might want to remove the time part, if so, uncomment the next line\n",
    "new_df['Date'] = new_df['Date'].dt.date\n",
    "dates = new_df.copy()['Date'].values.tolist()\n",
    "\n",
    "# Initialise\n",
    "new_df[\"Tick\"] = \"\"\n",
    "new_df[\"Change\"] = 0\n",
    "new_df[\"Price\"] = 0"
   ]
  },
  {
   "cell_type": "code",
   "execution_count": 227,
   "id": "a4e2beeb-2f04-4f33-94ff-f1928975b302",
   "metadata": {},
   "outputs": [],
   "source": [
    "for date in dates:\n",
    "    # For each day in past calendar year\n",
    "    most_min = 1000\n",
    "    keep = False\n",
    "    for temp_df in dfs:\n",
    "        # For each ticker df\n",
    "        if not temp_df[temp_df[\"Date\"] == date].empty:\n",
    "            minimum = temp_df[temp_df[\"Date\"] == date][\"Change\"].item()\n",
    "            if minimum < most_min:\n",
    "                most_min = minimum\n",
    "                keep = temp_df[temp_df[\"Date\"] == date]\n",
    "\n",
    "    if keep is not False:\n",
    "        # print(keep[\"Close\"].item())\n",
    "        new_df.loc[new_df['Date'] == date, 'Price'] = keep[\"Close\"].item()\n",
    "        new_df.loc[new_df['Date'] == date, 'Change'] = keep[\"Change\"].item()\n",
    "        new_df.loc[new_df['Date'] == date, 'Tick'] = keep[\"Tick\"].item()\n",
    "\n",
    "new_df = new_df[new_df[\"Tick\"] != \"\"]\n",
    "new_df = new_df[new_df[\"Price\"] != 0.0]\n"
   ]
  },
  {
   "cell_type": "code",
   "execution_count": 186,
   "id": "48fc96db-537b-473d-8e0f-73d7cdae62d3",
   "metadata": {},
   "outputs": [],
   "source": [
    "new_df.to_csv(\"research.csv\")"
   ]
  },
  {
   "cell_type": "code",
   "execution_count": 228,
   "id": "3830ce62-6d95-4a8d-b787-9de4733748cb",
   "metadata": {},
   "outputs": [],
   "source": [
    "totals = {key: 0 for key in tickers}\n",
    "total_invested = 0\n",
    "daily_invest = 10000 # 100 euros\n",
    "for index, row in new_df.iterrows():\n",
    "    total_invested += daily_invest\n",
    "    buy_amt = daily_invest / row[\"Price\"]\n",
    "    totals[row[\"Tick\"]] += buy_amt"
   ]
  },
  {
   "cell_type": "code",
   "execution_count": 229,
   "id": "ee1dcdfc-183a-400e-af46-3d19e6be0eb0",
   "metadata": {},
   "outputs": [
    {
     "data": {
      "text/plain": [
       "{'AIAG.L': 1309.1248633230198,\n",
       " 'NBTK.DE': 29272.399265914097,\n",
       " 'XMLH.DE': 64282.99486910078,\n",
       " 'ROBO': 48520.49500395412,\n",
       " 'TIUP.DE': 21745.72208987362,\n",
       " 'VWRL.AS': 972.114753664455,\n",
       " 'VFEM.AS': 23856.472137813882,\n",
       " 'DXSA.DE': 48574.82862434,\n",
       " 'SXR8.DE': 1331.7235408518288,\n",
       " 'IPRP.AS': 56423.91414001854,\n",
       " '2B78.DE': 123962.54535624516}"
      ]
     },
     "execution_count": 229,
     "metadata": {},
     "output_type": "execute_result"
    }
   ],
   "source": [
    "totals"
   ]
  },
  {
   "cell_type": "code",
   "execution_count": 230,
   "id": "8d768afb-8386-4a49-887f-0d2c6b7d78a2",
   "metadata": {},
   "outputs": [],
   "source": [
    "total_value = 0\n",
    "for k, v in totals.items():\n",
    "    total_value += yf.Ticker(k).info[\"ask\"] * v"
   ]
  },
  {
   "cell_type": "code",
   "execution_count": 231,
   "id": "4e27ed9e-9ca3-4fad-b3d4-3c7a1e57dd39",
   "metadata": {},
   "outputs": [
    {
     "data": {
      "text/plain": [
       "105482.77554383867"
      ]
     },
     "execution_count": 231,
     "metadata": {},
     "output_type": "execute_result"
    }
   ],
   "source": [
    "total_value / 100 # In euros"
   ]
  },
  {
   "cell_type": "code",
   "execution_count": 232,
   "id": "5c4fb39c-6e79-41b8-8154-3d6e35146785",
   "metadata": {},
   "outputs": [
    {
     "data": {
      "text/plain": [
       "129200.0"
      ]
     },
     "execution_count": 232,
     "metadata": {},
     "output_type": "execute_result"
    }
   ],
   "source": [
    "total_invested / 100 # In euros"
   ]
  },
  {
   "cell_type": "code",
   "execution_count": null,
   "id": "ff4f4a46-b53d-48a2-aa82-adca2c186b66",
   "metadata": {},
   "outputs": [],
   "source": []
  }
 ],
 "metadata": {
  "kernelspec": {
   "display_name": "Python 3 (ipykernel)",
   "language": "python",
   "name": "python3"
  },
  "language_info": {
   "codemirror_mode": {
    "name": "ipython",
    "version": 3
   },
   "file_extension": ".py",
   "mimetype": "text/x-python",
   "name": "python",
   "nbconvert_exporter": "python",
   "pygments_lexer": "ipython3",
   "version": "3.9.13"
  }
 },
 "nbformat": 4,
 "nbformat_minor": 5
}
